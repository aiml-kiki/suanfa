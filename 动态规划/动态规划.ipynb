{
 "cells": [
  {
   "cell_type": "markdown",
   "id": "9c79b44a",
   "metadata": {},
   "source": [
    "## Leetcode\n",
    "\n",
    "[前n个数二进制中1的个数](https://leetcode-cn.com/problems/w3tCBm/)"
   ]
  },
  {
   "cell_type": "markdown",
   "id": "3268d41d",
   "metadata": {},
   "source": [
    "## 动态规划\n",
    "\n",
    "- 定义状态空间数组\n",
    "- 定义状态转移条件"
   ]
  },
  {
   "cell_type": "code",
   "execution_count": null,
   "id": "e1da5b74",
   "metadata": {},
   "outputs": [],
   "source": []
  }
 ],
 "metadata": {
  "kernelspec": {
   "display_name": "Python 3 (ipykernel)",
   "language": "python",
   "name": "python3"
  },
  "language_info": {
   "codemirror_mode": {
    "name": "ipython",
    "version": 3
   },
   "file_extension": ".py",
   "mimetype": "text/x-python",
   "name": "python",
   "nbconvert_exporter": "python",
   "pygments_lexer": "ipython3",
   "version": "3.8.3"
  },
  "toc": {
   "base_numbering": 1,
   "nav_menu": {},
   "number_sections": true,
   "sideBar": true,
   "skip_h1_title": false,
   "title_cell": "Table of Contents",
   "title_sidebar": "Contents",
   "toc_cell": false,
   "toc_position": {},
   "toc_section_display": true,
   "toc_window_display": false
  }
 },
 "nbformat": 4,
 "nbformat_minor": 5
}
