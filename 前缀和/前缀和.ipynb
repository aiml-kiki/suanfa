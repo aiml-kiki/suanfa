{
 "cells": [
  {
   "cell_type": "markdown",
   "id": "b36a40ee",
   "metadata": {},
   "source": [
    "## leetcode\n",
    "\n",
    "### [和为k的子数组](https://leetcode-cn.com/problems/QTMn0o/)\n",
    "### [0和1相同的子数组](https://leetcode-cn.com/problems/A1NYOS/)\n",
    "### [左右两边子数组的和相等](https://leetcode-cn.com/problems/tvdfij/)\n",
    "### [二维子矩阵的和](https://leetcode-cn.com/problems/O4NDxx/)"
   ]
  },
  {
   "cell_type": "code",
   "execution_count": null,
   "id": "08382b52",
   "metadata": {},
   "outputs": [],
   "source": []
  }
 ],
 "metadata": {
  "kernelspec": {
   "display_name": "Python 3 (ipykernel)",
   "language": "python",
   "name": "python3"
  },
  "language_info": {
   "codemirror_mode": {
    "name": "ipython",
    "version": 3
   },
   "file_extension": ".py",
   "mimetype": "text/x-python",
   "name": "python",
   "nbconvert_exporter": "python",
   "pygments_lexer": "ipython3",
   "version": "3.8.3"
  }
 },
 "nbformat": 4,
 "nbformat_minor": 5
}
