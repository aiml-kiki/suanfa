{
 "cells": [
  {
   "cell_type": "markdown",
   "id": "40221d05",
   "metadata": {},
   "source": [
    "## Leetcode\n",
    "\n",
    "### [排序数组中两数之和](https://leetcode-cn.com/problems/kLl5u1/)\n",
    "### [数组中和为0的三个数](https://leetcode-cn.com/problems/1fGaJU/)\n",
    "### [和大于等于target的最短子数组](https://leetcode-cn.com/problems/2VG8Kg/)\n",
    "### [乘积小于 K 的子数组](https://leetcode-cn.com/problems/ZVAVXX/)"
   ]
  },
  {
   "cell_type": "code",
   "execution_count": null,
   "id": "93a9b578",
   "metadata": {},
   "outputs": [],
   "source": []
  }
 ],
 "metadata": {
  "kernelspec": {
   "display_name": "Python 3 (ipykernel)",
   "language": "python",
   "name": "python3"
  },
  "language_info": {
   "codemirror_mode": {
    "name": "ipython",
    "version": 3
   },
   "file_extension": ".py",
   "mimetype": "text/x-python",
   "name": "python",
   "nbconvert_exporter": "python",
   "pygments_lexer": "ipython3",
   "version": "3.8.3"
  },
  "toc": {
   "base_numbering": 1,
   "nav_menu": {},
   "number_sections": true,
   "sideBar": true,
   "skip_h1_title": false,
   "title_cell": "Table of Contents",
   "title_sidebar": "Contents",
   "toc_cell": false,
   "toc_position": {},
   "toc_section_display": true,
   "toc_window_display": false
  }
 },
 "nbformat": 4,
 "nbformat_minor": 5
}
