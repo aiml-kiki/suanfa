{
 "cells": [
  {
   "cell_type": "markdown",
   "id": "c2929811",
   "metadata": {},
   "source": [
    "## Leetcode\n",
    "\n",
    "### [只出现一次的数字](https://leetcode-cn.com/problems/WGki4K/)\n",
    "### [单词长度的最大乘积](https://leetcode-cn.com/problems/aseY1I/)"
   ]
  },
  {
   "cell_type": "markdown",
   "id": "802b8beb",
   "metadata": {},
   "source": [
    "## 常用方法\n",
    "### 定义"
   ]
  },
  {
   "cell_type": "code",
   "execution_count": 1,
   "id": "927cc0e2",
   "metadata": {},
   "outputs": [],
   "source": [
    "res = {}\n",
    "res = dict()"
   ]
  },
  {
   "cell_type": "markdown",
   "id": "831f14c2",
   "metadata": {},
   "source": [
    "### 添加元素"
   ]
  },
  {
   "cell_type": "code",
   "execution_count": 2,
   "id": "ac3a8fcf",
   "metadata": {},
   "outputs": [
    {
     "data": {
      "text/plain": [
       "{1: 0}"
      ]
     },
     "execution_count": 2,
     "metadata": {},
     "output_type": "execute_result"
    }
   ],
   "source": [
    "res[1] = 0\n",
    "res"
   ]
  },
  {
   "cell_type": "markdown",
   "id": "93d1f0b0",
   "metadata": {},
   "source": [
    "### 键对应的值累加"
   ]
  },
  {
   "cell_type": "code",
   "execution_count": 3,
   "id": "c06a21b9",
   "metadata": {},
   "outputs": [],
   "source": [
    "res[0] = 1 + res.get(0, 0)"
   ]
  },
  {
   "cell_type": "code",
   "execution_count": 4,
   "id": "96962947",
   "metadata": {},
   "outputs": [
    {
     "data": {
      "text/plain": [
       "1"
      ]
     },
     "execution_count": 4,
     "metadata": {},
     "output_type": "execute_result"
    }
   ],
   "source": [
    "res[0]"
   ]
  },
  {
   "cell_type": "markdown",
   "id": "204c9940",
   "metadata": {},
   "source": [
    "### 字典根据值对键排序"
   ]
  },
  {
   "cell_type": "code",
   "execution_count": 6,
   "id": "32cf4553",
   "metadata": {},
   "outputs": [
    {
     "data": {
      "text/plain": [
       "[1, 0]"
      ]
     },
     "execution_count": 6,
     "metadata": {},
     "output_type": "execute_result"
    }
   ],
   "source": [
    "sorted(res, key=res.get)"
   ]
  },
  {
   "cell_type": "markdown",
   "id": "1b3d3b11",
   "metadata": {},
   "source": [
    "### 字典值的最大值对应的键"
   ]
  },
  {
   "cell_type": "code",
   "execution_count": 7,
   "id": "9874796c",
   "metadata": {},
   "outputs": [
    {
     "data": {
      "text/plain": [
       "0"
      ]
     },
     "execution_count": 7,
     "metadata": {},
     "output_type": "execute_result"
    }
   ],
   "source": [
    "max(res, key=res.get)"
   ]
  },
  {
   "cell_type": "code",
   "execution_count": null,
   "id": "fd2fa9a6",
   "metadata": {},
   "outputs": [],
   "source": []
  }
 ],
 "metadata": {
  "kernelspec": {
   "display_name": "Python 3 (ipykernel)",
   "language": "python",
   "name": "python3"
  },
  "language_info": {
   "codemirror_mode": {
    "name": "ipython",
    "version": 3
   },
   "file_extension": ".py",
   "mimetype": "text/x-python",
   "name": "python",
   "nbconvert_exporter": "python",
   "pygments_lexer": "ipython3",
   "version": "3.8.3"
  },
  "toc": {
   "base_numbering": 1,
   "nav_menu": {},
   "number_sections": true,
   "sideBar": true,
   "skip_h1_title": false,
   "title_cell": "Table of Contents",
   "title_sidebar": "Contents",
   "toc_cell": false,
   "toc_position": {},
   "toc_section_display": true,
   "toc_window_display": false
  }
 },
 "nbformat": 4,
 "nbformat_minor": 5
}
