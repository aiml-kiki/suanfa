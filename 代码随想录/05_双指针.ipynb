{
 "cells": [
  {
   "cell_type": "markdown",
   "id": "03526c16",
   "metadata": {},
   "source": [
    "# 双指针\n",
    "\n",
    "## [数组](01_数组.ipynb)\n",
    "- [移除元素](https://leetcode-cn.com/problems/remove-element/)\n",
    "\n",
    "## [字符串](04_字符串.ipynb)\n",
    "- [翻转字符串](https://leetcode-cn.com/problems/reverse-string/)\n",
    "- [替换空格](https://leetcode-cn.com/problems/ti-huan-kong-ge-lcof/)\n",
    "- [翻转字符串里的单词](https://leetcode-cn.com/problems/reverse-words-in-a-string/)\n",
    "\n",
    "## [链表](02_链表.ipynb)\n",
    "- [翻转链表](https://leetcode-cn.com/problems/reverse-linked-list/)\n",
    "- [删除链表的倒数第N个节点](https://leetcode-cn.com/problems/remove-nth-node-from-end-of-list/)\n",
    "- [链表相交](https://leetcode-cn.com/problems/intersection-of-two-linked-lists-lcci/)\n",
    "- [环形链表](https://leetcode-cn.com/problems/intersection-of-two-linked-lists-lcci/)\n",
    "\n",
    "## [哈希表](03_哈希表.ipynb)\n",
    "- [三数之和](https://leetcode-cn.com/problems/3sum/)\n",
    "- [四数之和](https://leetcode-cn.com/problems/4sum/)"
   ]
  },
  {
   "cell_type": "code",
   "execution_count": null,
   "id": "be8a3432",
   "metadata": {},
   "outputs": [],
   "source": []
  }
 ],
 "metadata": {
  "kernelspec": {
   "display_name": "Python 3 (ipykernel)",
   "language": "python",
   "name": "python3"
  },
  "language_info": {
   "codemirror_mode": {
    "name": "ipython",
    "version": 3
   },
   "file_extension": ".py",
   "mimetype": "text/x-python",
   "name": "python",
   "nbconvert_exporter": "python",
   "pygments_lexer": "ipython3",
   "version": "3.8.3"
  },
  "toc": {
   "base_numbering": 1,
   "nav_menu": {},
   "number_sections": true,
   "sideBar": true,
   "skip_h1_title": false,
   "title_cell": "Table of Contents",
   "title_sidebar": "Contents",
   "toc_cell": false,
   "toc_position": {},
   "toc_section_display": true,
   "toc_window_display": false
  }
 },
 "nbformat": 4,
 "nbformat_minor": 5
}
