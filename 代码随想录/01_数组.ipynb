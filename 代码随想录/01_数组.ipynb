{
 "cells": [
  {
   "cell_type": "markdown",
   "id": "e2bce217",
   "metadata": {},
   "source": [
    "# 数组\n",
    "\n",
    "## [二分查找](https://leetcode-cn.com/problems/binary-search/)\n",
    "给定一个`n`个元素有序的（`升序`）整型数组`nums`和一个目标值`target`，写一个函数搜索`nums`中的`target`，如果目标值存在返回下标，否则返回-1。\n",
    "```\n",
    "示例1\n",
    "输入: nums = [-1,0,3,5,9,12], target = 9\n",
    "输出: 4\n",
    "解释: 9 出现在 nums 中并且下标为 4\n",
    "\n",
    "示例2\n",
    "输入: nums = [-1,0,3,5,9,12], target = 2\n",
    "输出: -1\n",
    "解释: 2 不存在 nums 中因此返回 -1\n",
    "```"
   ]
  },
  {
   "cell_type": "code",
   "execution_count": 9,
   "id": "85360bc8",
   "metadata": {},
   "outputs": [],
   "source": [
    "class Solution:\n",
    "    def search(self, nums, target):\n",
    "        left = 0\n",
    "        right = len(nums) - 1\n",
    "        while left <= right:\n",
    "            mid = (left + right) // 2\n",
    "            if nums[mid] < target:\n",
    "                left = mid + 1\n",
    "            elif nums[mid] > target:\n",
    "                right = mid - 1\n",
    "            else:\n",
    "                return mid\n",
    "        \n",
    "        return -1"
   ]
  },
  {
   "cell_type": "code",
   "execution_count": 10,
   "id": "c8ead95c",
   "metadata": {},
   "outputs": [
    {
     "data": {
      "text/plain": [
       "4"
      ]
     },
     "execution_count": 10,
     "metadata": {},
     "output_type": "execute_result"
    }
   ],
   "source": [
    "test = Solution()\n",
    "test.search([-1,0,3,5,9,12], 9)\n",
    "# 4"
   ]
  },
  {
   "cell_type": "markdown",
   "id": "c9e5dc0b",
   "metadata": {},
   "source": [
    "## [移除元素](https://leetcode-cn.com/problems/remove-element/)\n",
    "\n",
    "\n",
    "给你一个数组`nums`和一个值`val`，你需要`原地`移除所有数值等于`val`的元素，并返回移除后数组的新长度。不要使用额外的数组空间，你必须仅使用`O(1)`额外空间并`原地`修改输入数组。元素的顺序可以改变。你不需要考虑数组中超出新长度后面的元素。\n",
    "\n",
    "```\n",
    "示例 1：\n",
    "输入：nums = [3,2,2,3], val = 3\n",
    "输出：2, nums = [2,2]\n",
    "解释：函数应该返回新的长度 2, 并且 nums 中的前两个元素均为 2。你不需要考虑数组中超出新长度后面的元素。例如，函数返回的新长度为 2 ，而 nums = [2,2,3,3] 或 nums = [2,2,0,0]，也会被视作正确答案。\n",
    "\n",
    "示例 2：\n",
    "输入：nums = [0,1,2,2,3,0,4,2], val = 2\n",
    "输出：5, nums = [0,1,4,0,3]\n",
    "解释：函数应该返回新的长度 5, 并且 nums 中的前五个元素为 0, 1, 3, 0, 4。注意这五个元素可为任意顺序。你不需要考虑数组中超出新长度后面的元素。\n",
    "```"
   ]
  },
  {
   "cell_type": "code",
   "execution_count": 11,
   "id": "bdbb2d73",
   "metadata": {},
   "outputs": [],
   "source": [
    "class Solution:\n",
    "    def removeElement(self, nums, val):\n",
    "        slow = 0\n",
    "        fast = 0\n",
    "        while fast < len(nums):\n",
    "            if nums[fast] != val:\n",
    "                nums[slow] = nums[fast]\n",
    "                slow += 1\n",
    "            fast += 1\n",
    "        return slow"
   ]
  },
  {
   "cell_type": "code",
   "execution_count": 12,
   "id": "425192c5",
   "metadata": {},
   "outputs": [
    {
     "data": {
      "text/plain": [
       "2"
      ]
     },
     "execution_count": 12,
     "metadata": {},
     "output_type": "execute_result"
    }
   ],
   "source": [
    "test = Solution()\n",
    "test.removeElement([3,2,2,3], 3)\n",
    "# 2"
   ]
  },
  {
   "cell_type": "markdown",
   "id": "030302ca",
   "metadata": {},
   "source": [
    "## [有序数组的平方](https://leetcode-cn.com/problems/squares-of-a-sorted-array/)\n",
    "\n",
    "给你一个按`非递减顺序`排序的整数数组`nums`，返回`每个数字的平方`组成的新数组，要求也按`非递减顺序`排序。\n",
    "\n",
    "```\n",
    "示例 1：\n",
    "输入：nums = [-4,-1,0,3,10]\n",
    "输出：[0,1,9,16,100]\n",
    "解释：平方后，数组变为 [16,1,0,9,100],排序后，数组变为 [0,1,9,16,100]\n",
    "\n",
    "示例 2：\n",
    "输入：nums = [-7,-3,2,3,11]\n",
    "输出：[4,9,9,49,121]\n",
    "```"
   ]
  },
  {
   "cell_type": "code",
   "execution_count": 14,
   "id": "68677d8e",
   "metadata": {},
   "outputs": [],
   "source": [
    "class Solution:\n",
    "    def sortedSquares(self, nums):\n",
    "        left = 0\n",
    "        right = len(nums) - 1\n",
    "        \n",
    "        res = []\n",
    "        while left <= right:\n",
    "            l = nums[left] ** 2\n",
    "            r = nums[right] ** 2\n",
    "            if l > r:\n",
    "                res.append(l)\n",
    "                left += 1\n",
    "            else:\n",
    "                res.append(r)\n",
    "                right -= 1\n",
    "        return res[::-1]"
   ]
  },
  {
   "cell_type": "code",
   "execution_count": 15,
   "id": "c606a58a",
   "metadata": {},
   "outputs": [
    {
     "data": {
      "text/plain": [
       "[0, 1, 9, 16, 100]"
      ]
     },
     "execution_count": 15,
     "metadata": {},
     "output_type": "execute_result"
    }
   ],
   "source": [
    "test = Solution()\n",
    "test.sortedSquares([-4,-1,0,3,10])\n",
    "#[16,1,0,9,100]"
   ]
  },
  {
   "cell_type": "markdown",
   "id": "9280abd8",
   "metadata": {},
   "source": [
    "## [长度最小的子数组](https://leetcode-cn.com/problems/minimum-size-subarray-sum/)\n",
    "\n",
    "给定一个含有`n`个正整数的数组和一个正整数`target`。\n",
    "找出该数组中满足其和`≥target`的长度最小的`连续子数组[numsl, numsl+1, ..., numsr-1, numsr]`，并返回其长度。如果不存在符合条件的子数组，返回`0`。\n",
    "\n",
    "```\n",
    "示例 1：\n",
    "输入：target = 7, nums = [2,3,1,2,4,3]\n",
    "输出：2\n",
    "解释：子数组 [4,3] 是该条件下的长度最小的子数组。\n",
    "\n",
    "示例 2：\n",
    "输入：target = 4, nums = [1,4,4]\n",
    "输出：1\n",
    "\n",
    "示例 3：\n",
    "输入：target = 11, nums = [1,1,1,1,1,1,1,1]\n",
    "输出：0\n",
    "```"
   ]
  },
  {
   "cell_type": "code",
   "execution_count": 16,
   "id": "9d619599",
   "metadata": {},
   "outputs": [],
   "source": [
    "class Solution:\n",
    "    def minSubArrayLen(self, target, nums):\n",
    "        left = 0\n",
    "        sum_ = 0\n",
    "        res = float('inf')\n",
    "\n",
    "        for right in range(len(nums)):\n",
    "            sum_ += nums[right]\n",
    "            while sum_ >= target:\n",
    "                res = min(res, right - left + 1)\n",
    "                sum_ -= nums[left]\n",
    "                left += 1\n",
    "        \n",
    "        return 0 if res > len(nums) else res"
   ]
  },
  {
   "cell_type": "code",
   "execution_count": 17,
   "id": "444fac2b",
   "metadata": {},
   "outputs": [
    {
     "data": {
      "text/plain": [
       "2"
      ]
     },
     "execution_count": 17,
     "metadata": {},
     "output_type": "execute_result"
    }
   ],
   "source": [
    "test = Solution()\n",
    "test.minSubArrayLen(7, [2,3,1,2,4,3])\n",
    "# 2"
   ]
  },
  {
   "attachments": {
    "image-2.png": {
     "image/png": "[encoded data removed]"
    }
   },
   "cell_type": "markdown",
   "id": "cbe1557c",
   "metadata": {},
   "source": [
    "## [螺旋矩阵](https://leetcode-cn.com/problems/spiral-matrix-ii/)\n",
    "\n",
    "给你一个正整数`n`，生成一个包含`1`到`n^2`所有元素，且元素按顺时针顺序螺旋排列的`n*n`正方形矩阵`matrix`。\n",
    "![image-2.png](attachment:image-2.png)\n",
    "```\n",
    "示例 1：\n",
    "\n",
    "输入：n = 3\n",
    "输出：[[1,2,3],[8,9,4],[7,6,5]]\n",
    "\n",
    "示例 2：\n",
    "输入：n = 1\n",
    "输出：[[1]]\n",
    "```"
   ]
  },
  {
   "cell_type": "code",
   "execution_count": 18,
   "id": "27e8cf12",
   "metadata": {},
   "outputs": [],
   "source": [
    "class Solution:\n",
    "    def generateMatrix(self, n):\n",
    "        res = [[0 for _ in range(n)] for _ in range(n)]\n",
    "        left = 0\n",
    "        right = n-1\n",
    "        up = 0\n",
    "        down = n-1\n",
    "\n",
    "        num = 1\n",
    "\n",
    "        while left < right and up < down:\n",
    "\n",
    "            for i in range(left, right):\n",
    "                res[up][i] = num\n",
    "                num += 1\n",
    "\n",
    "            for j in range(up, down):\n",
    "                res[j][right] = num\n",
    "                num += 1\n",
    "            \n",
    "            for x in range(right, left, -1):\n",
    "                res[down][x] = num\n",
    "                num += 1\n",
    "            \n",
    "            for y in range(down, up, -1):\n",
    "                res[y][left] = num\n",
    "                num += 1\n",
    "            \n",
    "            left += 1\n",
    "            right -= 1\n",
    "            up += 1\n",
    "            down -= 1\n",
    "        \n",
    "        if n % 2 == 1:\n",
    "            res[n // 2][n // 2] = num\n",
    "        \n",
    "        return res"
   ]
  },
  {
   "cell_type": "code",
   "execution_count": 19,
   "id": "4ba7c8df",
   "metadata": {},
   "outputs": [
    {
     "data": {
      "text/plain": [
       "[[1, 2, 3], [8, 9, 4], [7, 6, 5]]"
      ]
     },
     "execution_count": 19,
     "metadata": {},
     "output_type": "execute_result"
    }
   ],
   "source": [
    "test = Solution()\n",
    "test.generateMatrix(3)\n",
    "# [[1,2,3],[8,9,4],[7,6,5]]"
   ]
  },
  {
   "cell_type": "code",
   "execution_count": null,
   "id": "878862fc",
   "metadata": {},
   "outputs": [],
   "source": []
  }
 ],
 "metadata": {
  "kernelspec": {
   "display_name": "Python 3 (ipykernel)",
   "language": "python",
   "name": "python3"
  },
  "language_info": {
   "codemirror_mode": {
    "name": "ipython",
    "version": 3
   },
   "file_extension": ".py",
   "mimetype": "text/x-python",
   "name": "python",
   "nbconvert_exporter": "python",
   "pygments_lexer": "ipython3",
   "version": "3.8.3"
  },
  "toc": {
   "base_numbering": 1,
   "nav_menu": {},
   "number_sections": true,
   "sideBar": true,
   "skip_h1_title": false,
   "title_cell": "Table of Contents",
   "title_sidebar": "Contents",
   "toc_cell": false,
   "toc_position": {},
   "toc_section_display": true,
   "toc_window_display": false
  }
 },
 "nbformat": 4,
 "nbformat_minor": 5
}
