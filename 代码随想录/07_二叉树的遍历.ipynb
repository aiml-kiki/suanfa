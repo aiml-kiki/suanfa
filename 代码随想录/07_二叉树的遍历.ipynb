{
 "cells": [
  {
   "cell_type": "markdown",
   "id": "d6359126",
   "metadata": {},
   "source": [
    "# 二叉树的遍历\n",
    "\n",
    "## [前序遍历](https://leetcode-cn.com/problems/binary-tree-preorder-traversal/)\n",
    "\n",
    "### 递归"
   ]
  },
  {
   "cell_type": "code",
   "execution_count": 1,
   "id": "477b5c1d",
   "metadata": {},
   "outputs": [],
   "source": [
    "class Solution:\n",
    "    def preorderTraversal(self, root):\n",
    "        # 保存结果\n",
    "        result = []\n",
    "        \n",
    "        def traversal(root: TreeNode):\n",
    "            if root == None:\n",
    "                return\n",
    "            result.append(root.val) # 前序\n",
    "            traversal(root.left)    # 左\n",
    "            traversal(root.right)   # 右\n",
    "\n",
    "        traversal(root)\n",
    "        return result"
   ]
  },
  {
   "cell_type": "markdown",
   "id": "84bfeed9",
   "metadata": {},
   "source": [
    "### 迭代"
   ]
  },
  {
   "cell_type": "code",
   "execution_count": 5,
   "id": "189ed462",
   "metadata": {},
   "outputs": [],
   "source": [
    "class Solution:\n",
    "    def preorderTraversal(self, root):\n",
    "        # 根结点为空则返回空列表\n",
    "        if not root:\n",
    "            return []\n",
    "        stack = [root]\n",
    "        result = []\n",
    "        while stack:\n",
    "            node = stack.pop()\n",
    "            # 中结点先处理\n",
    "            result.append(node.val)\n",
    "            # 右孩子先入栈\n",
    "            if node.right:\n",
    "                stack.append(node.right)\n",
    "            # 左孩子后入栈\n",
    "            if node.left:\n",
    "                stack.append(node.left)\n",
    "        return result"
   ]
  },
  {
   "cell_type": "code",
   "execution_count": 8,
   "id": "95476ca1",
   "metadata": {},
   "outputs": [],
   "source": [
    "class Solution:\n",
    "    def preorderTraversal(self, root):\n",
    "        result = []\n",
    "        st= []\n",
    "        if root:\n",
    "            st.append(root)\n",
    "        while st:\n",
    "            node = st.pop()\n",
    "            if node != None:\n",
    "                if node.right: #右\n",
    "                    st.append(node.right)\n",
    "                if node.left: #左\n",
    "                    st.append(node.left)\n",
    "                st.append(node) #中\n",
    "                st.append(None)\n",
    "            else:\n",
    "                node = st.pop()\n",
    "                result.append(node.val)\n",
    "        return result"
   ]
  },
  {
   "cell_type": "markdown",
   "id": "f373c010",
   "metadata": {},
   "source": [
    "## [中序遍历](https://leetcode-cn.com/problems/binary-tree-inorder-traversal/)\n",
    "### 递归"
   ]
  },
  {
   "cell_type": "code",
   "execution_count": 3,
   "id": "a524b231",
   "metadata": {},
   "outputs": [],
   "source": [
    "# 中序遍历-递归-LC94_二叉树的中序遍历\n",
    "class Solution:\n",
    "    def inorderTraversal(self, root):\n",
    "        result = []\n",
    "\n",
    "        def traversal(root: TreeNode):\n",
    "            if root == None:\n",
    "                return\n",
    "            traversal(root.left)    # 左\n",
    "            result.append(root.val) # 中序\n",
    "            traversal(root.right)   # 右\n",
    "\n",
    "        traversal(root)\n",
    "        return result"
   ]
  },
  {
   "cell_type": "markdown",
   "id": "401ac0d6",
   "metadata": {},
   "source": [
    "### 迭代"
   ]
  },
  {
   "cell_type": "code",
   "execution_count": 6,
   "id": "157620df",
   "metadata": {},
   "outputs": [],
   "source": [
    "class Solution:\n",
    "    def preorderTraversal(self, root):\n",
    "        # 根结点为空则返回空列表\n",
    "        if not root:\n",
    "            return []\n",
    "        stack = [root]\n",
    "        result = []\n",
    "        while stack:\n",
    "            node = stack.pop()\n",
    "            # 中结点先处理\n",
    "            result.append(node.val)\n",
    "            # 右孩子先入栈\n",
    "            if node.right:\n",
    "                stack.append(node.right)\n",
    "            # 左孩子后入栈\n",
    "            if node.left:\n",
    "                stack.append(node.left)\n",
    "        return result"
   ]
  },
  {
   "cell_type": "code",
   "execution_count": 9,
   "id": "9913f7f0",
   "metadata": {},
   "outputs": [],
   "source": [
    "class Solution:\n",
    "    def inorderTraversal(self, root):\n",
    "        result = []\n",
    "        st = []\n",
    "        if root:\n",
    "            st.append(root)\n",
    "        while st:\n",
    "            node = st.pop()\n",
    "            if node != None:\n",
    "                if node.right: #添加右节点（空节点不入栈）\n",
    "                    st.append(node.right)\n",
    "                \n",
    "                st.append(node) #添加中节点\n",
    "                st.append(None) #中节点访问过，但是还没有处理，加入空节点做为标记。\n",
    "                \n",
    "                if node.left: #添加左节点（空节点不入栈）\n",
    "                    st.append(node.left)\n",
    "            else: #只有遇到空节点的时候，才将下一个节点放进结果集\n",
    "                node = st.pop() #重新取出栈中元素\n",
    "                result.append(node.val) #加入到结果集\n",
    "        return result"
   ]
  },
  {
   "cell_type": "markdown",
   "id": "074f4b87",
   "metadata": {},
   "source": [
    "## [后序遍历](https://leetcode-cn.com/problems/binary-tree-postorder-traversal/)\n",
    "### 递归"
   ]
  },
  {
   "cell_type": "code",
   "execution_count": 4,
   "id": "4c7a9642",
   "metadata": {},
   "outputs": [],
   "source": [
    "# 后序遍历-递归-LC145_二叉树的后序遍历\n",
    "class Solution:\n",
    "    def postorderTraversal(self, root):\n",
    "        result = []\n",
    "\n",
    "        def traversal(root: TreeNode):\n",
    "            if root == None:\n",
    "                return\n",
    "            traversal(root.left)    # 左\n",
    "            traversal(root.right)   # 右\n",
    "            result.append(root.val) # 后序\n",
    "\n",
    "        traversal(root)\n",
    "        return result"
   ]
  },
  {
   "cell_type": "markdown",
   "id": "b7e6adb0",
   "metadata": {},
   "source": [
    "### 迭代"
   ]
  },
  {
   "cell_type": "code",
   "execution_count": 7,
   "id": "e9a43e6d",
   "metadata": {},
   "outputs": [],
   "source": [
    "class Solution:\n",
    "    def postorderTraversal(self, root):\n",
    "        if not root:\n",
    "            return []\n",
    "        stack = [root]\n",
    "        result = []\n",
    "        while stack:\n",
    "            node = stack.pop()\n",
    "            # 中结点先处理\n",
    "            result.append(node.val)\n",
    "            # 左孩子先入栈\n",
    "            if node.left:\n",
    "                stack.append(node.left)\n",
    "            # 右孩子后入栈\n",
    "            if node.right:\n",
    "                stack.append(node.right)\n",
    "        # 将最终的数组翻转\n",
    "        return result[::-1]"
   ]
  },
  {
   "cell_type": "code",
   "execution_count": 10,
   "id": "e1750158",
   "metadata": {},
   "outputs": [],
   "source": [
    "class Solution:\n",
    "    def postorderTraversal(self, root):\n",
    "        result = []\n",
    "        st = []\n",
    "        if root:\n",
    "            st.append(root)\n",
    "        while st:\n",
    "            node = st.pop()\n",
    "            if node != None:\n",
    "                st.append(node) #中\n",
    "                st.append(None)\n",
    "                \n",
    "                if node.right: #右\n",
    "                    st.append(node.right)\n",
    "                if node.left: #左\n",
    "                    st.append(node.left)\n",
    "            else:\n",
    "                node = st.pop()\n",
    "                result.append(node.val)\n",
    "        return result"
   ]
  },
  {
   "cell_type": "markdown",
   "id": "0edba7fb",
   "metadata": {},
   "source": [
    "## [层序遍历](https://leetcode-cn.com/problems/binary-tree-level-order-traversal/)\n",
    "### 递归"
   ]
  },
  {
   "cell_type": "code",
   "execution_count": 11,
   "id": "a4b76c2f",
   "metadata": {},
   "outputs": [],
   "source": [
    "# 递归法\n",
    "class Solution:\n",
    "    def levelOrder(self, root):\n",
    "        res = []\n",
    "        def helper(root, depth):\n",
    "            if not root: return []\n",
    "            if len(res) == depth: res.append([]) # start the current depth\n",
    "            res[depth].append(root.val) # fulfil the current depth\n",
    "            if  root.left: helper(root.left, depth + 1) # process child nodes for the next depth\n",
    "            if  root.right: helper(root.right, depth + 1)\n",
    "        helper(root, 0)\n",
    "        return res"
   ]
  },
  {
   "cell_type": "markdown",
   "id": "94339cd3",
   "metadata": {},
   "source": [
    "### 迭代"
   ]
  },
  {
   "cell_type": "code",
   "execution_count": 12,
   "id": "49bec199",
   "metadata": {},
   "outputs": [],
   "source": [
    "\n",
    "class Solution:\n",
    "    \"\"\"二叉树层序遍历迭代解法\"\"\"\n",
    "\n",
    "    def levelOrder(self, root):\n",
    "        results = []\n",
    "        if not root:\n",
    "            return results\n",
    "        \n",
    "        from collections import deque\n",
    "        que = deque([root])\n",
    "        \n",
    "        while que:\n",
    "            size = len(que)\n",
    "            result = []\n",
    "            for _ in range(size):\n",
    "                cur = que.popleft()\n",
    "                result.append(cur.val)\n",
    "                if cur.left:\n",
    "                    que.append(cur.left)\n",
    "                if cur.right:\n",
    "                    que.append(cur.right)\n",
    "            results.append(result)\n",
    "\n",
    "        return results"
   ]
  },
  {
   "cell_type": "code",
   "execution_count": null,
   "id": "d6648148",
   "metadata": {},
   "outputs": [],
   "source": []
  }
 ],
 "metadata": {
  "kernelspec": {
   "display_name": "Python 3 (ipykernel)",
   "language": "python",
   "name": "python3"
  },
  "language_info": {
   "codemirror_mode": {
    "name": "ipython",
    "version": 3
   },
   "file_extension": ".py",
   "mimetype": "text/x-python",
   "name": "python",
   "nbconvert_exporter": "python",
   "pygments_lexer": "ipython3",
   "version": "3.8.3"
  },
  "toc": {
   "base_numbering": 1,
   "nav_menu": {},
   "number_sections": true,
   "sideBar": true,
   "skip_h1_title": false,
   "title_cell": "Table of Contents",
   "title_sidebar": "Contents",
   "toc_cell": false,
   "toc_position": {},
   "toc_section_display": true,
   "toc_window_display": false
  }
 },
 "nbformat": 4,
 "nbformat_minor": 5
}
