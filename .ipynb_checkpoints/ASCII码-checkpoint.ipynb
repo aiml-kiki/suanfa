{
 "cells": [
  {
   "cell_type": "markdown",
   "id": "c1ce8a1f",
   "metadata": {},
   "source": [
    "# 获得字符之间的相对位置\n",
    "[二进制加法](https://leetcode-cn.com/problems/JFETK5/submissions/)\n",
    "\n",
    "# 获得字符的数字表示"
   ]
  },
  {
   "cell_type": "markdown",
   "id": "1c59dc4f",
   "metadata": {},
   "source": [
    "# ord函数\n",
    "字符转对应的ASCII码"
   ]
  },
  {
   "cell_type": "code",
   "execution_count": 1,
   "id": "3dc24f80",
   "metadata": {},
   "outputs": [
    {
     "data": {
      "text/plain": [
       "97"
      ]
     },
     "execution_count": 1,
     "metadata": {},
     "output_type": "execute_result"
    }
   ],
   "source": [
    "ord('a')"
   ]
  },
  {
   "cell_type": "code",
   "execution_count": 2,
   "id": "b34cae20",
   "metadata": {},
   "outputs": [
    {
     "data": {
      "text/plain": [
       "49"
      ]
     },
     "execution_count": 2,
     "metadata": {},
     "output_type": "execute_result"
    }
   ],
   "source": [
    "ord('1')"
   ]
  },
  {
   "cell_type": "markdown",
   "id": "01a8c554",
   "metadata": {},
   "source": [
    "# chr函数\n",
    "ASCII码转对应的字符"
   ]
  },
  {
   "cell_type": "code",
   "execution_count": 3,
   "id": "3b49e565",
   "metadata": {},
   "outputs": [
    {
     "data": {
      "text/plain": [
       "'a'"
      ]
     },
     "execution_count": 3,
     "metadata": {},
     "output_type": "execute_result"
    }
   ],
   "source": [
    "chr(97)"
   ]
  },
  {
   "cell_type": "code",
   "execution_count": 4,
   "id": "2063205d",
   "metadata": {},
   "outputs": [
    {
     "data": {
      "text/plain": [
       "'1'"
      ]
     },
     "execution_count": 4,
     "metadata": {},
     "output_type": "execute_result"
    }
   ],
   "source": [
    "chr(49)"
   ]
  },
  {
   "cell_type": "code",
   "execution_count": null,
   "id": "165c1831",
   "metadata": {},
   "outputs": [],
   "source": []
  }
 ],
 "metadata": {
  "kernelspec": {
   "display_name": "Python 3 (ipykernel)",
   "language": "python",
   "name": "python3"
  },
  "language_info": {
   "codemirror_mode": {
    "name": "ipython",
    "version": 3
   },
   "file_extension": ".py",
   "mimetype": "text/x-python",
   "name": "python",
   "nbconvert_exporter": "python",
   "pygments_lexer": "ipython3",
   "version": "3.8.3"
  }
 },
 "nbformat": 4,
 "nbformat_minor": 5
}
