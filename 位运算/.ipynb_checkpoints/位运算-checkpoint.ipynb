{
 "cells": [
  {
   "cell_type": "markdown",
   "id": "e5287d4b",
   "metadata": {},
   "source": [
    "## Leetcode相关题链接\n",
    "### [整数除法](https://leetcode-cn.com/problems/xoh6Oh/)\n",
    "### [单词长度的最大乘积](https://leetcode-cn.com/problems/aseY1I/)"
   ]
  },
  {
   "cell_type": "markdown",
   "id": "86023edf",
   "metadata": {},
   "source": [
    "## 对数据的二进制表示进行操作"
   ]
  },
  {
   "cell_type": "code",
   "execution_count": 9,
   "id": "9b399fda",
   "metadata": {},
   "outputs": [
    {
     "data": {
      "text/plain": [
       "'1010'"
      ]
     },
     "execution_count": 9,
     "metadata": {},
     "output_type": "execute_result"
    }
   ],
   "source": [
    "bin(10).replace('0b', '')"
   ]
  },
  {
   "cell_type": "code",
   "execution_count": 12,
   "id": "5977d402",
   "metadata": {},
   "outputs": [],
   "source": [
    "def bin_(x):\n",
    "    return bin(x).replace('0b', '')"
   ]
  },
  {
   "cell_type": "code",
   "execution_count": 13,
   "id": "34b237e6",
   "metadata": {},
   "outputs": [
    {
     "data": {
      "text/plain": [
       "'1010'"
      ]
     },
     "execution_count": 13,
     "metadata": {},
     "output_type": "execute_result"
    }
   ],
   "source": [
    "bin_(10)"
   ]
  },
  {
   "cell_type": "markdown",
   "id": "7726328c",
   "metadata": {},
   "source": [
    "## & 按位与运算符"
   ]
  },
  {
   "cell_type": "markdown",
   "id": "a39e8354",
   "metadata": {},
   "source": [
    "按位与运算符&的运算规则是：只有参与&运算的两个位都为1时，结果才为1，否则为0,和逻辑运算符&&非常类似"
   ]
  },
  {
   "cell_type": "code",
   "execution_count": 14,
   "id": "cd2e0d58",
   "metadata": {},
   "outputs": [
    {
     "data": {
      "text/plain": [
       "'1010'"
      ]
     },
     "execution_count": 14,
     "metadata": {},
     "output_type": "execute_result"
    }
   ],
   "source": [
    "bin_(10)"
   ]
  },
  {
   "cell_type": "code",
   "execution_count": 15,
   "id": "abefccb5",
   "metadata": {},
   "outputs": [
    {
     "data": {
      "text/plain": [
       "'101'"
      ]
     },
     "execution_count": 15,
     "metadata": {},
     "output_type": "execute_result"
    }
   ],
   "source": [
    "bin_(5)"
   ]
  },
  {
   "cell_type": "code",
   "execution_count": 17,
   "id": "07bbb91c",
   "metadata": {},
   "outputs": [
    {
     "data": {
      "text/plain": [
       "0"
      ]
     },
     "execution_count": 17,
     "metadata": {},
     "output_type": "execute_result"
    }
   ],
   "source": [
    "10 & 5"
   ]
  },
  {
   "cell_type": "code",
   "execution_count": 19,
   "id": "c33fcf82",
   "metadata": {},
   "outputs": [
    {
     "data": {
      "text/plain": [
       "'1011'"
      ]
     },
     "execution_count": 19,
     "metadata": {},
     "output_type": "execute_result"
    }
   ],
   "source": [
    "bin_(11)"
   ]
  },
  {
   "cell_type": "code",
   "execution_count": 20,
   "id": "65ac803e",
   "metadata": {},
   "outputs": [
    {
     "data": {
      "text/plain": [
       "10"
      ]
     },
     "execution_count": 20,
     "metadata": {},
     "output_type": "execute_result"
    }
   ],
   "source": [
    "11 & 10"
   ]
  },
  {
   "cell_type": "markdown",
   "id": "af8dc139",
   "metadata": {},
   "source": [
    "## | 按位或运算符\n",
    "按位或运算符|的运算规则是：两个二进制位有一个为1时，结果就为1，两个都为0时结果才为0和逻辑运算中的||非常类似"
   ]
  },
  {
   "cell_type": "code",
   "execution_count": 21,
   "id": "045a0240",
   "metadata": {},
   "outputs": [
    {
     "data": {
      "text/plain": [
       "15"
      ]
     },
     "execution_count": 21,
     "metadata": {},
     "output_type": "execute_result"
    }
   ],
   "source": [
    "10 | 5"
   ]
  },
  {
   "cell_type": "code",
   "execution_count": 22,
   "id": "5ad2601d",
   "metadata": {},
   "outputs": [
    {
     "data": {
      "text/plain": [
       "11"
      ]
     },
     "execution_count": 22,
     "metadata": {},
     "output_type": "execute_result"
    }
   ],
   "source": [
    "11 | 10"
   ]
  },
  {
   "cell_type": "markdown",
   "id": "03f9c165",
   "metadata": {},
   "source": [
    "## ^ 按位异或运算符\n",
    "按位异或运算^的运算规则是：参与运算的两个二进制位不同时，结果为1，相同时结果为0"
   ]
  },
  {
   "cell_type": "code",
   "execution_count": 23,
   "id": "cf6eeaf3",
   "metadata": {},
   "outputs": [
    {
     "data": {
      "text/plain": [
       "15"
      ]
     },
     "execution_count": 23,
     "metadata": {},
     "output_type": "execute_result"
    }
   ],
   "source": [
    "10 ^ 5"
   ]
  },
  {
   "cell_type": "code",
   "execution_count": 24,
   "id": "5031bd3d",
   "metadata": {},
   "outputs": [
    {
     "data": {
      "text/plain": [
       "1"
      ]
     },
     "execution_count": 24,
     "metadata": {},
     "output_type": "execute_result"
    }
   ],
   "source": [
    "11 ^ 10"
   ]
  },
  {
   "cell_type": "markdown",
   "id": "786f1171",
   "metadata": {},
   "source": [
    "## ~ 按位取反运算符\n",
    "按位取反运算符~为单目运算符(只有一个操作数)，右结合性，作用是对参与运算的二进制位取反,和逻辑运算中的!非常类似"
   ]
  },
  {
   "cell_type": "code",
   "execution_count": 25,
   "id": "7aca0f38",
   "metadata": {},
   "outputs": [
    {
     "data": {
      "text/plain": [
       "-11"
      ]
     },
     "execution_count": 25,
     "metadata": {},
     "output_type": "execute_result"
    }
   ],
   "source": [
    "~10"
   ]
  },
  {
   "cell_type": "code",
   "execution_count": 26,
   "id": "2625b11d",
   "metadata": {},
   "outputs": [
    {
     "data": {
      "text/plain": [
       "-6"
      ]
     },
     "execution_count": 26,
     "metadata": {},
     "output_type": "execute_result"
    }
   ],
   "source": [
    "~5"
   ]
  },
  {
   "cell_type": "markdown",
   "id": "f65a77a2",
   "metadata": {},
   "source": [
    "## << 左移运算符\n",
    "左移运算符<<用来把操作数的各个二进制位全部左移若干位，高位丢弃，低位补0"
   ]
  },
  {
   "cell_type": "code",
   "execution_count": 27,
   "id": "ac24b007",
   "metadata": {},
   "outputs": [
    {
     "data": {
      "text/plain": [
       "320"
      ]
     },
     "execution_count": 27,
     "metadata": {},
     "output_type": "execute_result"
    }
   ],
   "source": [
    "10 << 5"
   ]
  },
  {
   "cell_type": "code",
   "execution_count": 28,
   "id": "1b3ac2d2",
   "metadata": {},
   "outputs": [
    {
     "data": {
      "text/plain": [
       "20480"
      ]
     },
     "execution_count": 28,
     "metadata": {},
     "output_type": "execute_result"
    }
   ],
   "source": [
    "10 << 11"
   ]
  },
  {
   "cell_type": "markdown",
   "id": "cae5339f",
   "metadata": {},
   "source": [
    "x << y = x * (2 ** x) , x, y为10进制数"
   ]
  },
  {
   "cell_type": "code",
   "execution_count": 29,
   "id": "869f0d0b",
   "metadata": {},
   "outputs": [
    {
     "data": {
      "text/plain": [
       "320"
      ]
     },
     "execution_count": 29,
     "metadata": {},
     "output_type": "execute_result"
    }
   ],
   "source": [
    "10 * 2 ** 5"
   ]
  },
  {
   "cell_type": "code",
   "execution_count": 30,
   "id": "d6e6a285",
   "metadata": {},
   "outputs": [
    {
     "data": {
      "text/plain": [
       "20480"
      ]
     },
     "execution_count": 30,
     "metadata": {},
     "output_type": "execute_result"
    }
   ],
   "source": [
    "10 * 2 ** 11"
   ]
  },
  {
   "cell_type": "markdown",
   "id": "0137f362",
   "metadata": {},
   "source": [
    "## >> 右移运算符\n",
    "右移运算符>>用来把操作数的各个二进制位全部右移若干位，低位丢弃，高位补0或1。如果数据的最高位是0，那么就补0；如果最高位是1，那么就补1。"
   ]
  },
  {
   "cell_type": "code",
   "execution_count": 32,
   "id": "136bf807",
   "metadata": {},
   "outputs": [
    {
     "data": {
      "text/plain": [
       "5"
      ]
     },
     "execution_count": 32,
     "metadata": {},
     "output_type": "execute_result"
    }
   ],
   "source": [
    "10 >> 1"
   ]
  },
  {
   "cell_type": "code",
   "execution_count": 34,
   "id": "f843192f",
   "metadata": {},
   "outputs": [
    {
     "data": {
      "text/plain": [
       "1"
      ]
     },
     "execution_count": 34,
     "metadata": {},
     "output_type": "execute_result"
    }
   ],
   "source": [
    "10 >> 3"
   ]
  },
  {
   "cell_type": "markdown",
   "id": "f406589a",
   "metadata": {},
   "source": [
    "x >> y = x // 2 ** y"
   ]
  },
  {
   "cell_type": "code",
   "execution_count": 35,
   "id": "e5b3549d",
   "metadata": {},
   "outputs": [
    {
     "data": {
      "text/plain": [
       "5"
      ]
     },
     "execution_count": 35,
     "metadata": {},
     "output_type": "execute_result"
    }
   ],
   "source": [
    "10 // 2 ** 1"
   ]
  },
  {
   "cell_type": "code",
   "execution_count": 36,
   "id": "603608ac",
   "metadata": {},
   "outputs": [
    {
     "data": {
      "text/plain": [
       "1"
      ]
     },
     "execution_count": 36,
     "metadata": {},
     "output_type": "execute_result"
    }
   ],
   "source": [
    "10 // 2 ** 3"
   ]
  },
  {
   "cell_type": "markdown",
   "id": "e1255063",
   "metadata": {},
   "source": [
    "## 去除重复字符串"
   ]
  },
  {
   "cell_type": "code",
   "execution_count": null,
   "id": "515b74f7",
   "metadata": {},
   "outputs": [],
   "source": [
    "for word in words:\n",
    "    mode = 0\n",
    "    # for循环后，若两个字符串仅是字符顺序不同，则得到的mode相同\n",
    "    for c in word:\n",
    "        mode |= (1 << (ord(c) - ord('a')))\n",
    "    if len(word) > mode_maxlen[mode]:\n",
    "        mode_maxlen[mode] = len(word)"
   ]
  },
  {
   "cell_type": "code",
   "execution_count": null,
   "id": "24a0ef04",
   "metadata": {},
   "outputs": [],
   "source": []
  }
 ],
 "metadata": {
  "kernelspec": {
   "display_name": "Python 3 (ipykernel)",
   "language": "python",
   "name": "python3"
  },
  "language_info": {
   "codemirror_mode": {
    "name": "ipython",
    "version": 3
   },
   "file_extension": ".py",
   "mimetype": "text/x-python",
   "name": "python",
   "nbconvert_exporter": "python",
   "pygments_lexer": "ipython3",
   "version": "3.8.3"
  },
  "toc": {
   "base_numbering": 1,
   "nav_menu": {},
   "number_sections": true,
   "sideBar": true,
   "skip_h1_title": false,
   "title_cell": "Table of Contents",
   "title_sidebar": "Contents",
   "toc_cell": false,
   "toc_position": {},
   "toc_section_display": true,
   "toc_window_display": false
  }
 },
 "nbformat": 4,
 "nbformat_minor": 5
}
